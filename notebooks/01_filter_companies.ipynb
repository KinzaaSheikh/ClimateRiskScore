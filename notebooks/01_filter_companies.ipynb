{
 "cells": [
  {
   "cell_type": "code",
   "execution_count": 6,
   "id": "eb4b904e",
   "metadata": {},
   "outputs": [],
   "source": [
    "import pandas as pd "
   ]
  },
  {
   "cell_type": "code",
   "execution_count": 3,
   "id": "d82f64d2",
   "metadata": {},
   "outputs": [],
   "source": [
    "# Load full S&P 500 data\n",
    "df = pd.read_csv('../data/sp500_companies.csv')"
   ]
  },
  {
   "cell_type": "code",
   "execution_count": 4,
   "id": "e081282c",
   "metadata": {},
   "outputs": [
    {
     "name": "stdout",
     "output_type": "stream",
     "text": [
      "Selected 15 companies:\n",
      "   Symbol                        Longname                         Industry\n",
      "0    AAPL                      Apple Inc.             Consumer Electronics\n",
      "1    NVDA              NVIDIA Corporation                   Semiconductors\n",
      "7    TSLA                     Tesla, Inc.               Auto Manufacturers\n",
      "12    JPM            JPMorgan Chase & Co.              Banks - Diversified\n",
      "16    XOM         Exxon Mobil Corporation             Oil & Gas Integrated\n",
      "19     PG    The Procter & Gamble Company    Household & Personal Products\n",
      "23    BAC     Bank of America Corporation              Banks - Diversified\n",
      "28    CVX             Chevron Corporation             Oil & Gas Integrated\n",
      "32    ACN                   Accenture plc  Information Technology Services\n",
      "37     BX                 Blackstone Inc.                 Asset Management\n",
      "39    DIS         The Walt Disney Company                    Entertainment\n",
      "48   PLTR      Palantir Technologies Inc.        Software - Infrastructure\n",
      "50   INTU                     Intuit Inc.           Software - Application\n",
      "51     GS   The Goldman Sachs Group, Inc.                  Capital Markets\n",
      "53    TXN  Texas Instruments Incorporated                   Semiconductors\n"
     ]
    }
   ],
   "source": [
    "# List of selected companies for the project (by name)\n",
    "\n",
    "TARGET_COMPANIES = [\n",
    "    \"Apple Inc.\", \"NVIDIA Corporation\", \"Tesla, Inc.\", \"JP Morgan Chase & Co.\", \"Exxon Mobil Corporation\", \n",
    "    \"Procter & Gamble Company (The)\", \"Bank of America Corporation\", \"Chevron Corporation\", \"Accenture plc\", \"Blackstone Inc.\",\n",
    "    \"Walt Disney Company (The)\", \"Palantir Technologies Inc.\", \"Intuit Inc.\", \"Goldman Sachs Group, Inc. (The)\", \"Texas Instruments Incorporated\"\n",
    "]\n",
    "\n",
    "# Filter by shortname\n",
    "selected_companies = df[df['Shortname'].isin(TARGET_COMPANIES)].copy()\n",
    "\n",
    "# Save to clean CSV\n",
    "selected_companies.to_csv('../data/companies.csv', index=False)\n",
    "\n",
    "# Preview\n",
    "print(f\"Selected {len(selected_companies)} companies:\")\n",
    "print(selected_companies[['Symbol', 'Longname', 'Industry']])\n"
   ]
  },
  {
   "cell_type": "code",
   "execution_count": 7,
   "id": "cc6222ab",
   "metadata": {},
   "outputs": [
    {
     "name": "stdout",
     "output_type": "stream",
     "text": [
      "                      Symbol           Name     Headquarters\n",
      "AAPL              Apple Inc.      Cupertino       California\n",
      "TSLA              Tesla Inc.         Austin            Texas\n",
      "XOM               ExxonMobil         Irving            Texas\n",
      "WMT             Walmart Inc.    Bentonville         Arkansas\n",
      "AMZN         Amazon.com Inc.        Seattle       Washington\n",
      "JPM     JPMorgan Chase & Co.       New York         New York\n",
      "F         Ford Motor Company       Dearborn         Michigan\n",
      "INTC       Intel Corporation    Santa Clara       California\n",
      "DUK              Duke Energy      Charlotte   North Carolina\n",
      "KO         Coca-Cola Company        Atlanta          Georgia\n",
      "MSFT   Microsoft Corporation        Redmond       Washington\n",
      "GOOGL          Alphabet Inc.  Mountain View       California\n",
      "V                  Visa Inc.  San Francisco       California\n",
      "CVX      Chevron Corporation      San Ramon       California\n",
      "PFE              Pfizer Inc.       New York         New York\n"
     ]
    }
   ],
   "source": [
    "df = pd.read_csv('../data/companies_manual.csv')\n",
    "print(df[['Symbol', 'Name', 'Headquarters']])"
   ]
  }
 ],
 "metadata": {
  "kernelspec": {
   "display_name": "ClimateRiskScore",
   "language": "python",
   "name": "python3"
  },
  "language_info": {
   "codemirror_mode": {
    "name": "ipython",
    "version": 3
   },
   "file_extension": ".py",
   "mimetype": "text/x-python",
   "name": "python",
   "nbconvert_exporter": "python",
   "pygments_lexer": "ipython3",
   "version": "3.13.1"
  }
 },
 "nbformat": 4,
 "nbformat_minor": 5
}
